{
 "cells": [
  {
   "cell_type": "markdown",
   "metadata": {},
   "source": [
    "# 处理搜狐数据，去掉article content中带有html标签"
   ]
  },
  {
   "cell_type": "code",
   "execution_count": 21,
   "metadata": {},
   "outputs": [],
   "source": [
    "import sys\n",
    "sys.path.append('../utils')\n",
    "import sql_util as sql\n",
    "from bs4 import BeautifulSoup\n",
    "import re\n",
    "import time\n",
    "import threading"
   ]
  },
  {
   "cell_type": "code",
   "execution_count": null,
   "outputs": [],
   "source": [
    "class Thread(threading.Thread):\n",
    "    def __init__(self, num, lst):\n",
    "        self._num = num\n",
    "        self._lst = lst\n",
    "        super().__init__()\n",
    "\n",
    "    def run(self):\n",
    "        print(\"[{}]--write file start, process {} thread, num is {}......\".format(\n",
    "            time.strftime(\"%Y-%m-%d %H:%M:%S\", time.localtime()), self._num, len(self._lst)))\n",
    "\t\t# 循环处理数据，去掉每一条数据中的article_content html标签\n",
    "\t\t# 正则表达式过滤标签<>...</> or <.../>\n",
    "        # for element in self._lst:\n",
    "        #     file_util.write_file(os.path.join(self._path, element[0] + '.txt'),\n",
    "        #                          element[1])\n",
    "        count = 0\n",
    "        for element in self._lst:\n",
    "\t\t    if count % 1000 == 0:\n",
    "\t\t        print('process %d data...' % count)\n",
    "\t\t    temp = re.compile(r'<[^>]*>', re.S)\n",
    "\t\t    temp = temp.sub('', element.get('article_content'))\n",
    "\t\t    temp = str.replace(temp, '\\n', '').strip()\n",
    "\t\t    finally_result = sql.execute(\"update sj_sohu_no_html set article_content = %s where id = %s\", (temp, element.get('id')))\n",
    "\t\t    if finally_result == 0:\n",
    "\t\t        print('failed...')\n",
    "\t\t    count += 1\n",
    "\t\tprint('process finally......')\n",
    "        print(\"[{}]--write file end......\".format(time.strftime(\"%Y-%m-%d %H:%M:%S\", time.localtime())))\n",
    "\n",
    "\n",
    "def start(path, step=100):\n",
    "\tresult_data = sql.queryall('select * from sj_sohu_no_html')\n",
    "    temp_list = [result_data[i:i + step] for i in range(0, len(result_data), step)]\n",
    "    thr_list = [Thread(i, temp_list[i]) for i in range(len(temp_list))]\n",
    "    [thr.start() for thr in thr_list]\n",
    "    [thr.join() for thr in thr_list]"
   ],
   "metadata": {
    "collapsed": false,
    "pycharm": {
     "name": "#%%\n"
    }
   }
  },
  {
   "cell_type": "code",
   "execution_count": 19,
   "metadata": {},
   "outputs": [
    {
     "name": "stdout",
     "output_type": "stream",
     "text": [
      "参考消息网1月24日报道海外媒体称，1月23日晚一名男游客玩航拍期间，疑似无人机突然故障无信号，撞击澳门大三巴牌坊后“坠落”二层窗口，当地保安报警处理。 据《澳门日报》1月24日报道，23日晚8点半许，澳门警方接到报案信息，称大三巴牌坊发生航拍无人机毁损事件，警员到场向保安及涉事的23岁内地男游客了解情况。据称有人玩航拍期间，疑似无人机突然无信号并失去动力，“降落”到牌坊二层中央窗口，现场人指称航拍机曾与牌坊发生碰撞后坠落。事发后现场被封锁，消防人员亦到场戒备，随后将无人机取下。 澳门警方表示，涉事航拍无人机未向当地申请航拍准照，涉案游客被带走调查。 另据香港《明报》网站1月24日报道，澳门文化局24日再次派人员详细检查大三巴牌坊，包括现场检视、照片比对及使用3D扫描作数据分析等，经过严谨检查后，确认大三巴牌坊没有受损。 报道称，澳门方面未来会加强公众对文物建筑安全的保护意识，并呼吁市民及游客使用航拍机时，除需遵守相关规定外，更应确保文物建筑安全，若令建筑受损，需负刑事责任。                                声明：该文观点仅代表作者本人，搜狐号系信息发布平台，搜狐仅提供信息存储空间服务。\n"
     ]
    }
   ],
   "source": [
    "# 查询所有数据\n",
    "result_data = sql.queryall('select * from sj_sohu_no_html limit 1')\n",
    "# print(result_data[0].get('article_content').strip())\n",
    "print(str.replace(result_data[0].get('article_content'), '\\n', '').strip())"
   ]
  },
  {
   "cell_type": "code",
   "execution_count": 26,
   "metadata": {},
   "outputs": [
    {
     "name": "stdout",
     "output_type": "stream",
     "text": [
      "PI = 3\n"
     ]
    }
   ],
   "source": [
    "print (\"PI = %d\" % 3)"
   ]
  },
  {
   "cell_type": "code",
   "execution_count": null,
   "metadata": {},
   "outputs": [],
   "source": [
    "result_data = sql.queryall('select * from sj_sohu_no_html')\n",
    "print('数据总数: {}', len(result_data))"
   ]
  },
  {
   "cell_type": "code",
   "execution_count": null,
   "metadata": {},
   "outputs": [],
   "source": []
  }
 ],
 "metadata": {
  "kernelspec": {
   "display_name": "Python 3",
   "language": "python",
   "name": "python3"
  },
  "language_info": {
   "codemirror_mode": {
    "name": "ipython",
    "version": 3
   },
   "file_extension": ".py",
   "mimetype": "text/x-python",
   "name": "python",
   "nbconvert_exporter": "python",
   "pygments_lexer": "ipython3",
   "version": "3.6.9"
  },
  "pycharm": {
   "stem_cell": {
    "cell_type": "raw",
    "source": [],
    "metadata": {
     "collapsed": false
    }
   }
  }
 },
 "nbformat": 4,
 "nbformat_minor": 4
}