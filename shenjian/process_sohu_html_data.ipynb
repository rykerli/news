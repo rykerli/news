{
 "cells": [
  {
   "cell_type": "markdown",
   "metadata": {},
   "source": [
    "# 处理搜狐数据，去掉article content中带有html标签"
   ]
  },
  {
   "cell_type": "code",
   "execution_count": null,
   "metadata": {},
   "outputs": [],
   "source": [
    "import sys\n",
    "sys.path.append('../utils')\n",
    "import sql_util as sql\n",
    "from bs4 import BeautifulSoup\n",
    "import re\n",
    "import time\n",
    "import threading"
   ]
  },
  {
   "cell_type": "code",
   "execution_count": null,
   "metadata": {
    "collapsed": false,
    "jupyter": {
     "outputs_hidden": false
    },
    "pycharm": {
     "name": "#%%\n"
    }
   },
   "outputs": [],
   "source": [
    "class Thread(threading.Thread):\n",
    "    def __init__(self, num, lst):\n",
    "        self._num = num\n",
    "        self._lst = lst\n",
    "        super().__init__()\n",
    "\n",
    "    def run(self):\n",
    "        print(\"[{}]--process start, process {} thread, num is {}......\".format(\n",
    "            time.strftime(\"%Y-%m-%d %H:%M:%S\", time.localtime()), self._num, len(self._lst)))\n",
    "        # 循环处理数据，去掉每一条数据中的article_content html标签\n",
    "        # 正则表达式过滤标签<>...</> or <.../>\n",
    "        # for element in self._lst:\n",
    "        #     file_util.write_file(os.path.join(self._path, element[0] + '.txt'),\n",
    "        #                          element[1])\n",
    "        count = 0\n",
    "        for element in self._lst:\n",
    "            temp = re.compile(r'<[^>]*>', re.S)\n",
    "            temp = temp.sub('', element.get('article_content'))\n",
    "            temp = str.replace(temp, '\\n', '').strip()\n",
    "            finally_result = sql.execute(\"update sj_sohu_no_html set article_content = %s where id = %s\", (temp, element.get('id')))\n",
    "            if finally_result == 0:\n",
    "                print('failed...')\n",
    "            count += 1\n",
    "        print(\"[{}]--process end......\".format(time.strftime(\"%Y-%m-%d %H:%M:%S\", time.localtime())))"
   ]
  },
  {
   "cell_type": "code",
   "execution_count": null,
   "metadata": {},
   "outputs": [],
   "source": [
    "def start(step=5000):\n",
    "    result_data = sql.queryall('select * from sj_sohu_no_html')\n",
    "    temp_list = [result_data[i:i + step] for i in range(0, len(result_data), step)]\n",
    "    thr_list = [Thread(i, temp_list[i]) for i in range(len(temp_list))]\n",
    "    [thr.start() for thr in thr_list]\n",
    "    [thr.join() for thr in thr_list]"
   ]
  },
  {
   "cell_type": "code",
   "execution_count": null,
   "metadata": {},
   "outputs": [],
   "source": [
    "start()"
   ]
  },
  {
   "cell_type": "code",
   "execution_count": null,
   "metadata": {},
   "outputs": [],
   "source": [
    "# 查询所有数据\n",
    "result_data = sql.queryall('select * from sj_sohu_no_html limit 1')\n",
    "# print(result_data[0].get('article_content').strip())\n",
    "print(str.replace(result_data[0].get('article_content'), '\\n', '').strip())"
   ]
  },
  {
   "cell_type": "code",
   "execution_count": 39,
   "metadata": {},
   "outputs": [
    {
     "name": "stdout",
     "output_type": "stream",
     "text": [
      "数据总数: 144523\n"
     ]
    }
   ],
   "source": [
    "result_data = sql.queryall('select * from sj_sohu_no_html')\n",
    "print('数据总数: {}'.format(len(result_data)))"
   ]
  },
  {
   "cell_type": "code",
   "execution_count": null,
   "metadata": {},
   "outputs": [],
   "source": []
  }
 ],
 "metadata": {
  "kernelspec": {
   "display_name": "Python 3",
   "language": "python",
   "name": "python3"
  },
  "language_info": {
   "codemirror_mode": {
    "name": "ipython",
    "version": 3
   },
   "file_extension": ".py",
   "mimetype": "text/x-python",
   "name": "python",
   "nbconvert_exporter": "python",
   "pygments_lexer": "ipython3",
   "version": "3.6.9"
  },
  "pycharm": {
   "stem_cell": {
    "cell_type": "raw",
    "metadata": {
     "collapsed": false
    },
    "source": []
   }
  }
 },
 "nbformat": 4,
 "nbformat_minor": 4
}
