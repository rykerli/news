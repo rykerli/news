{
 "cells": [
  {
   "cell_type": "code",
   "execution_count": null,
   "metadata": {},
   "outputs": [
    {
     "data": {
      "text/plain": [
       "['Pyt']"
      ]
     },
     "execution_count": 6,
     "metadata": {},
     "output_type": "execute_result"
    }
   ],
   "source": [
    "import re\n",
    "\n",
    "string = '阿里python课程'\n",
    "\n",
    "pat = \"阿里.*?Python\"\n",
    "re.compile(pat).findall(string)\n",
    "re.compile(\"pyt\", re.I).findall(\"Python\")\n"
   ]
  },
  {
   "cell_type": "code",
   "execution_count": 7,
   "metadata": {
    "pycharm": {
     "is_executing": false
    }
   },
   "outputs": [],
   "source": [
    "import utils.file_util as file\n",
    "vocabulary = '不/不是/没/没有/勿/未/别/甭/休/毋/非/莫/白/空/干/瞎/徒/虚/枉/不堪/不消/不屑/不由/白白/徒然/枉然/空自/枉自/徒自/否/未必/不必/无'\n",
    "vo_list = vocabulary.split('/')\n",
    "for word in vo_list:\n",
    "\tfile.append_file(\"/Users/red/Desktop/workspace/project/python/news/resource/vocabulary/negative_vocabulary.txt\", word+'\\n')"
   ]
  },
  {
   "cell_type": "code",
   "execution_count": 6,
   "outputs": [
    {
     "name": "stdout",
     "text": [
      "\n\n"
     ],
     "output_type": "stream"
    }
   ],
   "source": [
    "print('\\n')\n"
   ],
   "metadata": {
    "collapsed": false,
    "pycharm": {
     "name": "#%%\n",
     "is_executing": false
    }
   }
  }
 ],
 "metadata": {
  "kernelspec": {
   "display_name": "Python 3",
   "language": "python",
   "name": "python3"
  },
  "language_info": {
   "codemirror_mode": {
    "name": "ipython",
    "version": 3
   },
   "file_extension": ".py",
   "mimetype": "text/x-python",
   "name": "python",
   "nbconvert_exporter": "python",
   "pygments_lexer": "ipython3",
   "version": "3.6.2"
  },
  "pycharm": {
   "stem_cell": {
    "cell_type": "raw",
    "source": [],
    "metadata": {
     "collapsed": false
    }
   }
  }
 },
 "nbformat": 4,
 "nbformat_minor": 2
}