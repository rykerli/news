{
 "cells": [
  {
   "cell_type": "code",
   "execution_count": 1,
   "outputs": [],
   "source": [
    "from typing import List\n",
    "from utils import file_util as file"
   ],
   "metadata": {
    "collapsed": false,
    "pycharm": {
     "name": "#%% \n",
     "is_executing": false
    }
   }
  },
  {
   "cell_type": "code",
   "execution_count": 2,
   "metadata": {
    "pycharm": {
     "is_executing": false
    }
   },
   "outputs": [
    {
     "data": {
      "text/plain": "['Pyt']"
     },
     "metadata": {},
     "output_type": "execute_result",
     "execution_count": 2
    }
   ],
   "source": [
    "import re\n",
    "\n",
    "string = '阿里python课程'\n",
    "\n",
    "pat = \"阿里.*?Python\"\n",
    "re.compile(pat).findall(string)\n",
    "re.compile(\"pyt\", re.I).findall(\"Python\")\n"
   ]
  },
  {
   "cell_type": "code",
   "execution_count": 3,
   "metadata": {
    "pycharm": {
     "is_executing": false
    }
   },
   "outputs": [],
   "source": [
    "vocabulary = '不/不是/没/没有/勿/未/别/甭/休/毋/非/莫/白/空/干/瞎/徒/虚/枉/不堪/不消/不屑/不由/白白/徒然/枉然/空自/枉自/徒自/否/未必/不必/无'\n",
    "vo_list = vocabulary.split('/')\n",
    "for word in vo_list:\n",
    "\tfile.append_file(\"/Users/red/Desktop/workspace/project/python/news/resource/vocabulary/negative_vocabulary.txt\", word+'\\n')"
   ]
  },
  {
   "cell_type": "code",
   "execution_count": 4,
   "outputs": [
    {
     "name": "stdout",
     "text": [
      "['不', '不是', '没', '没有', '勿', '未', '别', '甭', '休', '毋', '非', '莫', '白', '空', '干', '瞎', '徒', '虚', '枉', '不堪', '不消', '不屑', '不由', '白白', '徒然', '枉然', '空自', '枉自', '徒自', '否', '未必', '不必', '无不', '不是', '没', '没有', '勿', '未', '别', '甭', '休', '毋', '非', '莫', '白', '空', '干', '瞎', '徒', '虚', '枉', '不堪', '不消', '不屑', '不由', '白白', '徒然', '枉然', '空自', '枉自', '徒自', '否', '未必', '不必', '无', '不', '不是', '没', '没有', '勿', '未', '别', '甭', '休', '毋', '非', '莫', '白', '空', '干', '瞎', '徒', '虚', '枉', '不堪', '不消', '不屑', '不由', '白白', '徒然', '枉然', '空自', '枉自', '徒自', '否', '未必', '不必', '无', '不', '不是', '没', '没有', '勿', '未', '别', '甭', '休', '毋', '非', '莫', '白', '空', '干', '瞎', '徒', '虚', '枉', '不堪', '不消', '不屑', '不由', '白白', '徒然', '枉然', '空自', '枉自', '徒自', '否', '未必', '不必', '无', '不', '不是', '没', '没有', '勿', '未', '别', '甭', '休', '毋', '非', '莫', '白', '空', '干', '瞎', '徒', '虚', '枉', '不堪', '不消', '不屑', '不由', '白白', '徒然', '枉然', '空自', '枉自', '徒自', '否', '未必', '不必', '无', '不', '不是', '没', '没有', '勿', '未', '别', '甭', '休', '毋', '非', '莫', '白', '空', '干', '瞎', '徒', '虚', '枉', '不堪', '不消', '不屑', '不由', '白白', '徒然', '枉然', '空自', '枉自', '徒自', '否', '未必', '不必', '无']\n"
     ],
     "output_type": "stream"
    }
   ],
   "source": [
    "neg_vo = file.read_file(\"../resource/vocabulary/negative_vocabulary.txt\")\n",
    "# for item in neg_vo:\n",
    "# \tprint(item.replace('\\n', ''))\n",
    "temp1 = []\n",
    "[temp1.append(element.replace('\\n', '')) for element in neg_vo]\n",
    "print(temp1)"
   ],
   "metadata": {
    "collapsed": false,
    "pycharm": {
     "name": "#%%\n",
     "is_executing": false
    }
   }
  },
  {
   "cell_type": "code",
   "execution_count": 10,
   "outputs": [
    {
     "name": "stdout",
     "text": [
      "<itertools.product object at 0x1032ac120>\n不爱\n不快乐\n不热爱\n不振作\n不是爱\n不是快乐\n不是热爱\n不是振作\n没爱\n没快乐\n没热爱\n没振作\n没有爱\n没有快乐\n没有热爱\n没有振作\n勿爱\n勿快乐\n勿热爱\n勿振作\n未爱\n未快乐\n未热爱\n未振作\n别爱\n别快乐\n别热爱\n别振作\n甭爱\n甭快乐\n甭热爱\n甭振作\n休爱\n休快乐\n休热爱\n休振作\n毋爱\n毋快乐\n毋热爱\n毋振作\n非爱\n非快乐\n非热爱\n非振作\n莫爱\n莫快乐\n莫热爱\n莫振作\n白爱\n白快乐\n白热爱\n白振作\n空爱\n空快乐\n空热爱\n空振作\n干爱\n干快乐\n干热爱\n干振作\n瞎爱\n瞎快乐\n瞎热爱\n瞎振作\n徒爱\n徒快乐\n徒热爱\n徒振作\n虚爱\n虚快乐\n虚热爱\n虚振作\n枉爱\n枉快乐\n枉热爱\n枉振作\n不堪爱\n不堪快乐\n不堪热爱\n不堪振作\n不消爱\n不消快乐\n不消热爱\n不消振作\n不屑爱\n不屑快乐\n不屑热爱\n不屑振作\n不由爱\n不由快乐\n不由热爱\n不由振作\n白白爱\n白白快乐\n白白热爱\n白白振作\n徒然爱\n徒然快乐\n徒然热爱\n徒然振作\n枉然爱\n枉然快乐\n枉然热爱\n枉然振作\n空自爱\n空自快乐\n空自热爱\n空自振作\n枉自爱\n枉自快乐\n枉自热爱\n枉自振作\n徒自爱\n徒自快乐\n徒自热爱\n徒自振作\n否爱\n否快乐\n否热爱\n否振作\n未必爱\n未必快乐\n未必热爱\n未必振作\n不必爱\n不必快乐\n不必热爱\n不必振作\n无不爱\n无不快乐\n无不热爱\n无不振作\n不是爱\n不是快乐\n不是热爱\n不是振作\n没爱\n没快乐\n没热爱\n没振作\n没有爱\n没有快乐\n没有热爱\n没有振作\n勿爱\n勿快乐\n勿热爱\n勿振作\n未爱\n未快乐\n未热爱\n未振作\n别爱\n别快乐\n别热爱\n别振作\n甭爱\n甭快乐\n甭热爱\n甭振作\n休爱\n休快乐\n休热爱\n休振作\n毋爱\n毋快乐\n毋热爱\n毋振作\n非爱\n非快乐\n非热爱\n非振作\n莫爱\n莫快乐\n莫热爱\n莫振作\n白爱\n白快乐\n白热爱\n白振作\n空爱\n空快乐\n空热爱\n空振作\n干爱\n干快乐\n干热爱\n干振作\n瞎爱\n瞎快乐\n瞎热爱\n瞎振作\n徒爱\n徒快乐\n徒热爱\n徒振作\n虚爱\n虚快乐\n虚热爱\n虚振作\n枉爱\n枉快乐\n枉热爱\n枉振作\n不堪爱\n不堪快乐\n不堪热爱\n不堪振作\n不消爱\n不消快乐\n不消热爱\n不消振作\n不屑爱\n不屑快乐\n不屑热爱\n不屑振作\n不由爱\n不由快乐\n不由热爱\n不由振作\n白白爱\n白白快乐\n白白热爱\n白白振作\n徒然爱\n徒然快乐\n徒然热爱\n徒然振作\n枉然爱\n枉然快乐\n枉然热爱\n枉然振作\n空自爱\n空自快乐\n空自热爱\n空自振作\n枉自爱\n枉自快乐\n枉自热爱\n枉自振作\n徒自爱\n徒自快乐\n徒自热爱\n徒自振作\n否爱\n否快乐\n否热爱\n否振作\n未必爱\n未必快乐\n未必热爱\n未必振作\n不必爱\n不必快乐\n不必热爱\n不必振作\n无爱\n无快乐\n无热爱\n无振作\n不爱\n不快乐\n不热爱\n不振作\n不是爱\n不是快乐\n不是热爱\n不是振作\n没爱\n没快乐\n没热爱\n没振作\n没有爱\n没有快乐\n没有热爱\n没有振作\n勿爱\n勿快乐\n勿热爱\n勿振作\n未爱\n未快乐\n未热爱\n未振作\n别爱\n别快乐\n别热爱\n别振作\n甭爱\n甭快乐\n甭热爱\n甭振作\n休爱\n休快乐\n休热爱\n休振作\n毋爱\n毋快乐\n毋热爱\n毋振作\n非爱\n非快乐\n非热爱\n非振作\n莫爱\n莫快乐\n莫热爱\n莫振作\n白爱\n白快乐\n白热爱\n白振作\n空爱\n空快乐\n空热爱\n空振作\n干爱\n干快乐\n干热爱\n干振作\n瞎爱\n瞎快乐\n瞎热爱\n瞎振作\n徒爱\n徒快乐\n徒热爱\n徒振作\n虚爱\n虚快乐\n虚热爱\n虚振作\n枉爱\n枉快乐\n枉热爱\n枉振作\n不堪爱\n不堪快乐\n不堪热爱\n不堪振作\n不消爱\n不消快乐\n不消热爱\n不消振作\n不屑爱\n不屑快乐\n不屑热爱\n不屑振作\n不由爱\n不由快乐\n不由热爱\n不由振作\n白白爱\n白白快乐\n白白热爱\n白白振作\n徒然爱\n徒然快乐\n徒然热爱\n徒然振作\n枉然爱\n枉然快乐\n枉然热爱\n枉然振作\n空自爱\n空自快乐\n空自热爱\n空自振作\n枉自爱\n枉自快乐\n枉自热爱\n枉自振作\n徒自爱\n徒自快乐\n徒自热爱\n徒自振作\n否爱\n否快乐\n否热爱\n否振作\n未必爱\n未必快乐\n未必热爱\n未必振作\n不必爱\n不必快乐\n不必热爱\n不必振作\n无爱\n无快乐\n无热爱\n无振作\n不爱\n不快乐\n不热爱\n不振作\n不是爱\n不是快乐\n不是热爱\n不是振作\n没爱\n没快乐\n没热爱\n没振作\n没有爱\n没有快乐\n没有热爱\n没有振作\n勿爱\n勿快乐\n勿热爱\n勿振作\n未爱\n未快乐\n未热爱\n未振作\n别爱\n别快乐\n别热爱\n别振作\n甭爱\n甭快乐\n甭热爱\n甭振作\n休爱\n休快乐\n休热爱\n休振作\n毋爱\n毋快乐\n毋热爱\n毋振作\n非爱\n非快乐\n非热爱\n非振作\n莫爱\n莫快乐\n莫热爱\n莫振作\n白爱\n白快乐\n白热爱\n白振作\n空爱\n空快乐\n空热爱\n空振作\n干爱\n干快乐\n干热爱\n干振作\n瞎爱\n瞎快乐\n瞎热爱\n瞎振作\n徒爱\n徒快乐\n徒热爱\n徒振作\n虚爱\n虚快乐\n虚热爱\n虚振作\n枉爱\n枉快乐\n枉热爱\n枉振作\n不堪爱\n不堪快乐\n不堪热爱\n不堪振作\n不消爱\n不消快乐\n不消热爱\n不消振作\n不屑爱\n不屑快乐\n不屑热爱\n不屑振作\n不由爱\n不由快乐\n不由热爱\n不由振作\n白白爱\n白白快乐\n白白热爱\n白白振作\n徒然爱\n徒然快乐\n徒然热爱\n徒然振作\n枉然爱\n枉然快乐\n枉然热爱\n枉然振作\n空自爱\n空自快乐\n空自热爱\n空自振作\n枉自爱\n枉自快乐\n枉自热爱\n枉自振作\n徒自爱\n徒自快乐\n徒自热爱\n徒自振作\n否爱\n否快乐\n否热爱\n否振作\n未必爱\n未必快乐\n未必热爱\n未必振作\n不必爱\n不必快乐\n不必热爱\n不必振作\n无爱\n无快乐\n无热爱\n无振作\n不爱\n不快乐\n不热爱\n不振作\n不是爱\n不是快乐\n不是热爱\n不是振作\n没爱\n没快乐\n没热爱\n没振作\n没有爱\n没有快乐\n没有热爱\n没有振作\n勿爱\n勿快乐\n勿热爱\n勿振作\n未爱\n未快乐\n未热爱\n未振作\n别爱\n别快乐\n别热爱\n别振作\n甭爱\n甭快乐\n甭热爱\n甭振作\n休爱\n休快乐\n休热爱\n休振作\n毋爱\n毋快乐\n毋热爱\n毋振作\n非爱\n非快乐\n非热爱\n非振作\n莫爱\n莫快乐\n莫热爱\n莫振作\n白爱\n白快乐\n白热爱\n白振作\n空爱\n空快乐\n空热爱\n空振作\n干爱\n干快乐\n干热爱\n干振作\n瞎爱\n瞎快乐\n瞎热爱\n瞎振作\n徒爱\n徒快乐\n徒热爱\n徒振作\n虚爱\n虚快乐\n虚热爱\n虚振作\n枉爱\n枉快乐\n枉热爱\n枉振作\n不堪爱\n不堪快乐\n不堪热爱\n不堪振作\n不消爱\n不消快乐\n不消热爱\n不消振作\n不屑爱\n不屑快乐\n不屑热爱\n不屑振作\n不由爱\n不由快乐\n不由热爱\n不由振作\n白白爱\n白白快乐\n白白热爱\n白白振作\n徒然爱\n徒然快乐\n徒然热爱\n徒然振作\n枉然爱\n枉然快乐\n枉然热爱\n枉然振作\n空自爱\n空自快乐\n空自热爱\n空自振作\n枉自爱\n枉自快乐\n枉自热爱\n枉自振作\n徒自爱\n徒自快乐\n徒自热爱\n徒自振作\n否爱\n否快乐\n否热爱\n否振作\n未必爱\n未必快乐\n未必热爱\n未必振作\n不必爱\n不必快乐\n不必热爱\n不必振作\n无爱\n无快乐\n无热爱\n无振作\n不爱\n不快乐\n不热爱\n不振作\n不是爱\n不是快乐\n不是热爱\n不是振作\n没爱\n没快乐\n没热爱\n没振作\n没有爱\n没有快乐\n没有热爱\n没有振作\n勿爱\n勿快乐\n勿热爱\n勿振作\n未爱\n未快乐\n未热爱\n未振作\n别爱\n别快乐\n别热爱\n别振作\n甭爱\n甭快乐\n甭热爱\n甭振作\n休爱\n休快乐\n休热爱\n休振作\n毋爱\n毋快乐\n毋热爱\n毋振作\n非爱\n非快乐\n非热爱\n非振作\n莫爱\n莫快乐\n莫热爱\n莫振作\n白爱\n白快乐\n白热爱\n白振作\n空爱\n空快乐\n空热爱\n空振作\n干爱\n干快乐\n干热爱\n干振作\n瞎爱\n瞎快乐\n瞎热爱\n瞎振作\n徒爱\n徒快乐\n徒热爱\n徒振作\n虚爱\n虚快乐\n虚热爱\n虚振作\n枉爱\n枉快乐\n枉热爱\n枉振作\n不堪爱\n不堪快乐\n不堪热爱\n不堪振作\n不消爱\n不消快乐\n不消热爱\n不消振作\n不屑爱\n不屑快乐\n不屑热爱\n不屑振作\n不由爱\n不由快乐\n不由热爱\n不由振作\n白白爱\n白白快乐\n白白热爱\n白白振作\n徒然爱\n徒然快乐\n徒然热爱\n徒然振作\n枉然爱\n枉然快乐\n枉然热爱\n枉然振作\n空自爱\n空自快乐\n空自热爱\n空自振作\n枉自爱\n枉自快乐\n枉自热爱\n枉自振作\n徒自爱\n徒自快乐\n徒自热爱\n徒自振作\n否爱\n否快乐\n否热爱\n否振作\n未必爱\n未必快乐\n未必热爱\n未必振作\n不必爱\n不必快乐\n不必热爱\n不必振作\n无爱\n无快乐\n无热爱\n无振作\n"
     ],
     "output_type": "stream"
    }
   ],
   "source": [
    "from utils import cartesian\n",
    "\n",
    "neg = file.read_file(\"../resource/vocabulary/negative.txt\")\n",
    "pos = file.read_file(\"../resource/vocabulary/positive.txt\")\n",
    "# for i in neg:\n",
    "# \tprint(i.replace('\\n', ''))\n",
    "\t\n",
    "temp = ['爱', '快乐', '热爱', '振作']\n",
    "car = cartesian.CartesianProduct()\n",
    "car.add_data(temp1)\n",
    "car.add_data(temp)\n",
    "p = car.build()\n",
    "print(p)\n",
    "for item in p:\n",
    "\tprint(\"\".join(item))"
   ],
   "metadata": {
    "collapsed": false,
    "pycharm": {
     "name": "#%%\n",
     "is_executing": false
    }
   }
  },
  {
   "cell_type": "code",
   "execution_count": 6,
   "outputs": [
    {
     "name": "stdout",
     "text": [
      "0\n"
     ],
     "output_type": "stream"
    }
   ],
   "source": [
    "data = file.read_file(\"/Users/red/Desktop/temp/news/data/500data/sohu/00c4aab2-4f42-462b-a18f-dd0a36a5d9ab.txt\")\n",
    "data = \"\".join(data)\n",
    "print(data.count(\"1孩子\"))\n",
    "# print(data.index(\"1孩子\"))"
   ],
   "metadata": {
    "collapsed": false,
    "pycharm": {
     "name": "#%%\n",
     "is_executing": false
    }
   }
  },
  {
   "cell_type": "code",
   "execution_count": 12,
   "outputs": [
    {
     "traceback": [
      "\u001b[0;31m---------------------------------------------------------------------------\u001b[0m",
      "\u001b[0;31mKeyError\u001b[0m                                  Traceback (most recent call last)",
      "\u001b[0;32m<ipython-input-12-619ca9a9a759>\u001b[0m in \u001b[0;36m<module>\u001b[0;34m()\u001b[0m\n\u001b[1;32m      8\u001b[0m         \u001b[0;31m# result[word] = 0\u001b[0m\u001b[0;34m\u001b[0m\u001b[0;34m\u001b[0m\u001b[0m\n\u001b[1;32m      9\u001b[0m         \u001b[0;32mif\u001b[0m \u001b[0mword\u001b[0m \u001b[0;32min\u001b[0m \u001b[0mdata\u001b[0m\u001b[0;34m:\u001b[0m\u001b[0;34m\u001b[0m\u001b[0m\n\u001b[0;32m---> 10\u001b[0;31m                 \u001b[0mresult\u001b[0m\u001b[0;34m[\u001b[0m\u001b[0mword\u001b[0m\u001b[0;34m]\u001b[0m\u001b[0;34m+=\u001b[0m\u001b[0;36m1\u001b[0m\u001b[0;34m\u001b[0m\u001b[0m\n\u001b[0m\u001b[1;32m     11\u001b[0m \u001b[0mprint\u001b[0m\u001b[0;34m(\u001b[0m\u001b[0mresult\u001b[0m\u001b[0;34m)\u001b[0m\u001b[0;34m\u001b[0m\u001b[0m\n\u001b[1;32m     12\u001b[0m \u001b[0;34m\u001b[0m\u001b[0m\n",
      "\u001b[0;31mKeyError\u001b[0m: '不喜欢'"
     ],
     "ename": "KeyError",
     "evalue": "'不喜欢'",
     "output_type": "error"
    }
   ],
   "source": [
    "data = file.read_file(\"/Users/red/Desktop/temp/news/data/500data/sohu/00c4aab2-4f42-462b-a18f-dd0a36a5d9ab.txt\")\n",
    "data = \"\".join(data)\n",
    "\n",
    "word_list = ['不喜欢', '不爱', '为孩子']\n",
    "\n",
    "result = {}\n",
    "for word in word_list:\n",
    "\tresult[word] = 0\n",
    "\tif word in data:\n",
    "\t\tresult[word]+=1\n",
    "print(result)\n"
   ],
   "metadata": {
    "collapsed": false,
    "pycharm": {
     "name": "#%%\n",
     "is_executing": false
    }
   }
  },
  {
   "cell_type": "code",
   "execution_count": 13,
   "outputs": [
    {
     "name": "stdout",
     "text": [
      "006145d7-030c-4b81-924e-1752b429ea49.txt\n"
     ],
     "output_type": "stream"
    }
   ],
   "source": [
    "print(str.split('/Users/red/Desktop/temp/news/data/500data/sina/006145d7-030c-4b81-924e-1752b429ea49.txt', '/')[-1])\n"
   ],
   "metadata": {
    "collapsed": false,
    "pycharm": {
     "name": "#%%\n",
     "is_executing": false
    }
   }
  }
 ],
 "metadata": {
  "kernelspec": {
   "name": "python3",
   "language": "python",
   "display_name": "Python 3"
  },
  "language_info": {
   "codemirror_mode": {
    "name": "ipython",
    "version": 3
   },
   "file_extension": ".py",
   "mimetype": "text/x-python",
   "name": "python",
   "nbconvert_exporter": "python",
   "pygments_lexer": "ipython3",
   "version": "3.6.2"
  },
  "pycharm": {
   "stem_cell": {
    "cell_type": "raw",
    "source": [],
    "metadata": {
     "collapsed": false
    }
   }
  }
 },
 "nbformat": 4,
 "nbformat_minor": 2
}