{
 "cells": [
  {
   "cell_type": "code",
   "execution_count": 23,
   "metadata": {
    "collapsed": false,
    "jupyter": {
     "outputs_hidden": false
    },
    "pycharm": {
     "is_executing": false,
     "name": "#%% \n"
    }
   },
   "outputs": [],
   "source": [
    "import sys\n",
    "sys.path.append('utils')\n",
    "from typing import List\n",
    "import file_util as file"
   ]
  },
  {
   "cell_type": "code",
   "execution_count": 13,
   "metadata": {
    "pycharm": {
     "is_executing": false
    }
   },
   "outputs": [
    {
     "data": {
      "text/plain": [
       "['Pyt']"
      ]
     },
     "execution_count": 13,
     "metadata": {},
     "output_type": "execute_result"
    }
   ],
   "source": [
    "import re\n",
    "\n",
    "string = '阿里python课程'\n",
    "\n",
    "pat = \"阿里.*?Python\"\n",
    "re.compile(pat).findall(string)\n",
    "re.compile(\"pyt\", re.I).findall(\"Python\")\n"
   ]
  },
  {
   "cell_type": "code",
   "execution_count": 30,
   "metadata": {
    "pycharm": {
     "is_executing": false
    }
   },
   "outputs": [
    {
     "name": "stdout",
     "output_type": "stream",
     "text": [
      "['不', '不是', '没', '没有', '勿', '未', '别', '甭', '休', '毋', '非', '莫', '白', '空', '干', '瞎', '徒', '虚', '枉', '不堪', '不消', '不屑', '不由', '白白', '徒然', '枉然', '空自', '枉自', '徒自', '否', '未必', '不必', '无别出', '别来', '不出', '不大', '不给', '不够', '不会', '不讲', '不可', '不肯', '不能', '不去', '不容', '不算', '不太', '不愿', '不再', '没法', '无法', '难以', '未能']\n"
     ]
    }
   ],
   "source": [
    "vocabulary = '不/不是/没/没有/勿/未/别/甭/休/毋/非/莫/白/空/干/瞎/徒/虚/枉/不堪/不消/不屑/不由/白白/徒然/枉然/空自/枉自/徒自/否/未必/不必/无别出/别来/不出/不大/不给/不够/不会/不讲/不可/不肯/不能/不去/不容/不算/不太/不愿/不再/没法/无法/难以/未能'\n",
    "vo_list = vocabulary.split('/')\n",
    "print(vo_list)\n",
    "# for word in vo_list:\n",
    "# \tfile.append_file(\"news/resource/vocabulary/negative_vocabulary.txt\", word+'\\n')"
   ]
  },
  {
   "cell_type": "code",
   "execution_count": 27,
   "metadata": {
    "collapsed": false,
    "jupyter": {
     "outputs_hidden": false
    },
    "pycharm": {
     "is_executing": false,
     "name": "#%%\n"
    }
   },
   "outputs": [
    {
     "name": "stdout",
     "output_type": "stream",
     "text": [
      "['不', '不是', '没', '没有', '勿', '未', '别', '甭', '休', '毋', '非', '莫', '白', '空', '干', '瞎', '徒', '虚', '枉', '不堪', '不消', '不屑', '不由', '白白', '徒然', '枉然', '空自', '枉自', '徒自', '否', '未必', '不必', '无别出', '别来', '不出', '不大', '不给', '不够', '不会', '不讲', '不可', '不肯', '不能', '不去', '不容', '不算', '不太', '不愿', '不再', '没法', '无法', '难以', '未能']\n"
     ]
    }
   ],
   "source": [
    "neg_vo = file.read_file(\"../resource/vocabulary/negative_vocabulary.txt\")\n",
    "# for item in neg_vo:\n",
    "# \tprint(item.replace('\\n', ''))\n",
    "temp1 = []\n",
    "[temp1.append(element.replace('\\n', '')) for element in neg_vo]\n",
    "print(temp1)"
   ]
  },
  {
   "cell_type": "code",
   "execution_count": 19,
   "metadata": {},
   "outputs": [
    {
     "name": "stdout",
     "output_type": "stream",
     "text": [
      "['/root/anaconda3/envs/news/lib/python36.zip', '/root/anaconda3/envs/news/lib/python3.6', '/root/anaconda3/envs/news/lib/python3.6/lib-dynload', '', '/root/anaconda3/envs/news/lib/python3.6/site-packages', '/root/anaconda3/envs/news/lib/python3.6/site-packages/IPython/extensions', '/root/.ipython', '../utils', './utils', 'news', '../utils', '../utils', 'utils', 'utils', '../utils', '../utils']\n"
     ]
    }
   ],
   "source": [
    "import sys\n",
    "# print(sys.modules)\n",
    "print(sys.path)"
   ]
  },
  {
   "cell_type": "code",
   "execution_count": 28,
   "metadata": {
    "collapsed": false,
    "jupyter": {
     "outputs_hidden": false
    },
    "pycharm": {
     "is_executing": false,
     "name": "#%%\n"
    }
   },
   "outputs": [
    {
     "name": "stdout",
     "output_type": "stream",
     "text": [
      "<itertools.product object at 0x7f671c401af8>\n"
     ]
    }
   ],
   "source": [
    "# from utils \n",
    "import cartesian\n",
    "\n",
    "neg = file.read_file(\"../resource/vocabulary/negative.txt\")\n",
    "pos = file.read_file(\"../resource/vocabulary/positive.txt\")\n",
    "# for i in neg:\n",
    "# \tprint(i.replace('\\n', ''))\n",
    "\t\n",
    "temp = ['爱', '快乐', '热爱', '振作']\n",
    "car = cartesian.CartesianProduct()\n",
    "car.add_data(temp1)\n",
    "car.add_data(temp)\n",
    "p = car.build()\n",
    "print(p)\n",
    "# for item in p:\n",
    "# \tprint(\"\".join(item))"
   ]
  },
  {
   "cell_type": "code",
   "execution_count": 6,
   "metadata": {
    "collapsed": false,
    "jupyter": {
     "outputs_hidden": false
    },
    "pycharm": {
     "is_executing": false,
     "name": "#%%\n"
    }
   },
   "outputs": [
    {
     "name": "stdout",
     "output_type": "stream",
     "text": [
      "0\n"
     ]
    }
   ],
   "source": [
    "data = file.read_file(\"/Users/red/Desktop/temp/news/data/500data/sohu/00c4aab2-4f42-462b-a18f-dd0a36a5d9ab.txt\")\n",
    "data = \"\".join(data)\n",
    "print(data.count(\"1孩子\"))\n",
    "# print(data.index(\"1孩子\"))"
   ]
  },
  {
   "cell_type": "code",
   "execution_count": 31,
   "metadata": {
    "collapsed": false,
    "jupyter": {
     "outputs_hidden": false
    },
    "pycharm": {
     "is_executing": false,
     "name": "#%%\n"
    }
   },
   "outputs": [],
   "source": [
    "# data = file.read_file(\"/Users/red/Desktop/temp/news/data/500data/sohu/00c4aab2-4f42-462b-a18f-dd0a36a5d9ab.txt\")\n",
    "# data = \"\".join(data)\n",
    "\n",
    "# word_list = ['不喜欢', '不爱', '为孩子']\n",
    "\n",
    "# result = {}\n",
    "# for word in word_list:\n",
    "# \tresult[word] = 0\n",
    "# \tif word in data:\n",
    "# \t\tresult[word]+=1\n",
    "# print(result)\n"
   ]
  },
  {
   "cell_type": "code",
   "execution_count": 32,
   "metadata": {
    "collapsed": false,
    "jupyter": {
     "outputs_hidden": false
    },
    "pycharm": {
     "is_executing": false,
     "name": "#%%\n"
    }
   },
   "outputs": [
    {
     "name": "stdout",
     "output_type": "stream",
     "text": [
      "006145d7-030c-4b81-924e-1752b429ea49.txt\n"
     ]
    }
   ],
   "source": [
    "print(str.split('/Users/red/Desktop/temp/news/data/500data/sina/006145d7-030c-4b81-924e-1752b429ea49.txt', '/')[-1])"
   ]
  },
  {
   "cell_type": "code",
   "execution_count": 50,
   "metadata": {},
   "outputs": [
    {
     "name": "stdout",
     "output_type": "stream",
     "text": [
      "<div class=\"display-content\">\n",
      "                            <p><strong>参考消息网1月24日报道</strong>海外媒体称，1月23日晚一名男游客玩航拍期间，疑似无人机突然故障无信号，撞击澳门大三巴牌坊后“坠落”二层窗口，当地保安报警处理。</p> \n",
      "<p>据《澳门日报》1月24日报道，23日晚8点半许，澳门警方接到报案信息，称大三巴牌坊发生航拍无人机毁损事件，警员到场向保安及涉事的23岁内地男游客了解情况。据称有人玩航拍期间，疑似无人机突然无信号并失去动力，“降落”到牌坊二层中央窗口，现场人指称航拍机曾与牌坊发生碰撞后坠落。事发后现场被封锁，消防人员亦到场戒备，随后将无人机取下。</p> \n",
      "<p>澳门警方表示，涉事航拍无人机未向当地申请航拍准照，涉案游客被带走调查。</p> \n",
      "<p>另据香港《明报》网站1月24日报道，澳门文化局24日再次派人员详细检查大三巴牌坊，包括现场检视、照片比对及使用3D扫描作数据分析等，经过严谨检查后，确认大三巴牌坊没有受损。</p> \n",
      "<p>报道称，澳门方面未来会加强公众对文物建筑安全的保护意识，并呼吁市民及游客使用航拍机时，除需遵守相关规定外，更应确保文物建筑安全，若令建筑受损，需负刑事责任。</p>\n",
      "                        </div>\n",
      "<div id=\"transferArticle\">\n",
      "    </div><section class=\"statement\">\n",
      "    声明：该文观点仅代表作者本人，搜狐号系信息发布平台，搜狐仅提供信息存储空间服务。\n",
      "</section>\n",
      "-----+++++\n",
      "\n",
      "                            参考消息网1月24日报道海外媒体称，1月23日晚一名男游客玩航拍期间，疑似无人机突然故障无信号，撞击澳门大三巴牌坊后“坠落”二层窗口，当地保安报警处理。 \n",
      "据《澳门日报》1月24日报道，23日晚8点半许，澳门警方接到报案信息，称大三巴牌坊发生航拍无人机毁损事件，警员到场向保安及涉事的23岁内地男游客了解情况。据称有人玩航拍期间，疑似无人机突然无信号并失去动力，“降落”到牌坊二层中央窗口，现场人指称航拍机曾与牌坊发生碰撞后坠落。事发后现场被封锁，消防人员亦到场戒备，随后将无人机取下。 \n",
      "澳门警方表示，涉事航拍无人机未向当地申请航拍准照，涉案游客被带走调查。 \n",
      "另据香港《明报》网站1月24日报道，澳门文化局24日再次派人员详细检查大三巴牌坊，包括现场检视、照片比对及使用3D扫描作数据分析等，经过严谨检查后，确认大三巴牌坊没有受损。 \n",
      "报道称，澳门方面未来会加强公众对文物建筑安全的保护意识，并呼吁市民及游客使用航拍机时，除需遵守相关规定外，更应确保文物建筑安全，若令建筑受损，需负刑事责任。\n",
      "                        \n",
      "\n",
      "    \n",
      "    声明：该文观点仅代表作者本人，搜狐号系信息发布平台，搜狐仅提供信息存储空间服务。\n",
      "\n"
     ]
    }
   ],
   "source": [
    "from bs4 import BeautifulSoup\n",
    "import sql_util as sql\n",
    "import re\n",
    "\n",
    "result = sql.queryone(\"select * from sj_sohu limit 1\").get('article_content')\n",
    "print(result)\n",
    "print()\n",
    "# <[^>]*>\n",
    "# <[^>]+>\n",
    "dr = re.compile(r'<[^>]*>',re.S)\n",
    "dd = dr.sub('',result)\n",
    "print(dd)\n",
    "# # 用BeautifulSoup解析数据  python3 必须传入参数二'html.parser' 得到一个对象，接下来获取对象的相关属性\n",
    "# html=BeautifulSoup(result,'html.parser')\n",
    "# # 读取title内容\n",
    "# print(html.div)"
   ]
  },
  {
   "cell_type": "code",
   "execution_count": 11,
   "metadata": {},
   "outputs": [
    {
     "name": "stdout",
     "output_type": "stream",
     "text": [
      "<class 'datetime.datetime'> 2019-03-29 19:16:00\n",
      "1553858160\n"
     ]
    }
   ],
   "source": [
    "import time\n",
    "# t = time.time()\n",
    "# print(t)\n",
    "# print(str(int(t)))\n",
    "import datetime\n",
    "\n",
    "# 时间戳转日期\n",
    "ts = '1553858160'\n",
    "dt1 = datetime.datetime.fromtimestamp(float(ts)/10**(len(ts)-10))\n",
    "print(type(dt1), dt1)\n",
    "\n",
    "# 日期转时间戳\n",
    "time_str = '2019-03-29 19:16'\n",
    "#转换成时间数组\n",
    "timeArray = time.strptime(time_str, \"%Y-%m-%d %H:%M\")\n",
    "#转换成时间戳\n",
    "timestamp = time.mktime(timeArray)\n",
    "print(int(timestamp))"
   ]
  },
  {
   "cell_type": "code",
   "execution_count": null,
   "metadata": {},
   "outputs": [],
   "source": []
  }
 ],
 "metadata": {
  "kernelspec": {
   "display_name": "Python 3",
   "language": "python",
   "name": "python3"
  },
  "language_info": {
   "codemirror_mode": {
    "name": "ipython",
    "version": 3
   },
   "file_extension": ".py",
   "mimetype": "text/x-python",
   "name": "python",
   "nbconvert_exporter": "python",
   "pygments_lexer": "ipython3",
   "version": "3.6.9"
  },
  "pycharm": {
   "stem_cell": {
    "cell_type": "raw",
    "metadata": {
     "collapsed": false
    },
    "source": []
   }
  }
 },
 "nbformat": 4,
 "nbformat_minor": 4
}
