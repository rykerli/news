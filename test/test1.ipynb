{
 "cells": [
  {
   "cell_type": "code",
   "execution_count": 7,
   "metadata": {},
   "outputs": [],
   "source": [
    "path1 = \"/home/ftpUser/pub/update/sina/sina_pos_seg_word/481-00013264.txt\"\n",
    "path2 = \"/home/ftpUser/pub/finally/sina/sina_pos/481-00013264.txt\""
   ]
  },
  {
   "cell_type": "code",
   "execution_count": 32,
   "metadata": {},
   "outputs": [],
   "source": [
    "import sys\n",
    "sys.path.append('../utils')\n",
    "import file_util as file\n",
    "import re"
   ]
  },
  {
   "cell_type": "code",
   "execution_count": 83,
   "metadata": {},
   "outputs": [
    {
     "name": "stdout",
     "output_type": "stream",
     "text": [
      "['佛朗明/nz\\n', '哥舞/n\\n', '轻快/d\\n', '节奏/n\\n', '充满活力/l\\n', '街道/n\\n', '宏观/n\\n', '雄伟/a\\n', '历史/n\\n', '建筑/n\\n', '自成/v\\n', '一派/m\\n', '艺术/n\\n', '美感/ns\\n', '催生出/v\\n', '毕加索/nr\\n', '达利/nrt\\n', '知名/v\\n', '艺术家/n\\n', '西班牙/ns\\n', '这身/r\\n', '婚纱/n\\n', '万种风情/l\\n', '奔放/v\\n', '玫瑰/n\\n', '品牌/n\\n', '性感/n\\n', '明亮/a\\n', '特色/n\\n', '西班牙/ns\\n', '打下/v\\n', '知名度/n\\n', '创立/v\\n', '婚服/n\\n', '品牌/n\\n', '完美/a\\n', '演绎/v\\n', '西班牙/ns\\n', '火热/n\\n', '细腻/a\\n', '灵魂/n\\n', '时尚/n\\n', '婚纱/n\\n', '西班牙/ns\\n']\n",
      "佛朗明哥舞的轻快节奏、充满活力的街道、宏观雄伟的历史建筑、自成一派的艺术美感，催生出高第、毕加索、达利等知名艺术家，在西班牙，穿上这身婚纱 你就是万种风情的奔放玫瑰 ，许多品牌也用性感明亮的特色，为西班牙打下知名度，创立于2005年的婚服品牌 Yolancris ，正是完美演绎了西班牙火热又细腻的灵魂。#时尚##婚纱##西班牙#\n"
     ]
    }
   ],
   "source": [
    "result1 = file.read_file(path1)\n",
    "print(result1)\n",
    "result2 = file.read_file(path2)[0]\n",
    "print(result2)\n",
    "# print(result2.find('佛朗明'))\n",
    "# 佛朗明/nz哥舞/n的轻快/d节奏/n、充满活力/l的街道/n、宏观/n雄伟/a的历史/n建筑/n、自成/v一派/m的艺术/n美感/ns，催生出/v高第、毕加索/nr、达利/nrt等知名/v艺术家/n，在西班牙/ns，\n",
    "# 穿上这身/r婚纱/n 你就是万种风情/l的奔放/v玫瑰/n ，许多品牌/n也用性感/n明亮/a的特色/n，为西班牙/ns打下/v知名度/n，创立/v于2005年的婚服/n品牌/n Yolancris ，正是完美/a演绎/v了西班牙/ns火热/n又细腻/a的灵魂/n。#时尚/n##婚纱/n##西班牙/ns"
   ]
  },
  {
   "cell_type": "code",
   "execution_count": 110,
   "metadata": {},
   "outputs": [
    {
     "name": "stdout",
     "output_type": "stream",
     "text": [
      "佛朗明/nz 哥舞/n 的轻快/d 节奏/n 、充满活力/l 的街道/n 、宏观/n 雄伟/a 的历史/n 建筑/n 、自成/v 一派/m 的艺术/n 美感/ns ，催生出/v 高第、毕加索/nr 、达利/nrt 等知名/v 艺术家/n ，在西班牙/ns ，穿上这身/r 婚纱/n  你就是万种风情/l 的奔放/v 玫瑰/n  ，许多品牌/n 也用性感/n 明亮/a 的特色/n ，为西班牙/ns 打下/v 知名度/n ，创立/v 于2005年的婚服/n 品牌/n  Yolancris ，正是完美/a 演绎/v 了西班牙/ns 火热/n 又细腻/a 的灵魂/n 。#时尚/n ##婚纱/n ##西班牙/ns \n"
     ]
    }
   ],
   "source": [
    "result2 = file.read_file(path2)[0]\n",
    "result_str = ''\n",
    "flag = 0\n",
    "len_str = len(result2)\n",
    "for element in (result1): \n",
    "    # 取词语\n",
    "    s = re.sub('/.*$', '', element).strip()\n",
    "#     print(s)\n",
    "    # 取标识符\n",
    "    identifier = re.sub('^([^/]*)', '', element)\n",
    "    result2 = result2[flag:len_str]\n",
    "#     print(result2)\n",
    "#     print(result2[0:result2.find(s) + len(s)])\n",
    "    result_str += result2[0:result2.find(s) + len(s)]\n",
    "    flag = result2.find(s) + len(s)\n",
    "#     print(flag)\n",
    "    result_str += identifier.strip()+\" \"\n",
    "print(result_str)"
   ]
  },
  {
   "cell_type": "code",
   "execution_count": null,
   "metadata": {},
   "outputs": [],
   "source": []
  }
 ],
 "metadata": {
  "kernelspec": {
   "display_name": "Python 3",
   "language": "python",
   "name": "python3"
  },
  "language_info": {
   "codemirror_mode": {
    "name": "ipython",
    "version": 3
   },
   "file_extension": ".py",
   "mimetype": "text/x-python",
   "name": "python",
   "nbconvert_exporter": "python",
   "pygments_lexer": "ipython3",
   "version": "3.6.9"
  },
  "widgets": {
   "application/vnd.jupyter.widget-state+json": {
    "state": {},
    "version_major": 2,
    "version_minor": 0
   }
  }
 },
 "nbformat": 4,
 "nbformat_minor": 4
}
