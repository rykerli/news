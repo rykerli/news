{
 "cells": [
  {
   "cell_type": "code",
   "execution_count": 11,
   "metadata": {
    "pycharm": {
     "is_executing": false,
     "name": "#%% \n"
    }
   },
   "outputs": [],
   "source": [
    "from utils import file_util as file"
   ]
  },
  {
   "cell_type": "code",
   "execution_count": 12,
   "metadata": {
    "pycharm": {
     "is_executing": false
    }
   },
   "outputs": [
    {
     "data": {
      "text/plain": [
       "['Pyt']"
      ]
     },
     "execution_count": 12,
     "metadata": {},
     "output_type": "execute_result"
    }
   ],
   "source": [
    "import re\n",
    "\n",
    "string = '阿里python课程'\n",
    "\n",
    "pat = \"阿里.*?Python\"\n",
    "re.compile(pat).findall(string)\n",
    "re.compile(\"pyt\", re.I).findall(\"Python\")\n"
   ]
  },
  {
   "cell_type": "code",
   "execution_count": 13,
   "metadata": {
    "collapsed": true,
    "pycharm": {
     "is_executing": false
    }
   },
   "outputs": [],
   "source": [
    "import utils.file_util as file\n",
    "vocabulary = '不/不是/没/没有/勿/未/别/甭/休/毋/非/莫/白/空/干/瞎/徒/虚/枉/不堪/不消/不屑/不由/白白/徒然/枉然/空自/枉自/徒自/否/未必/不必/无'\n",
    "vo_list = vocabulary.split('/')\n",
    "for word in vo_list:\n",
    "\tfile.append_file(\"/Users/red/Desktop/workspace/project/python/news/resource/vocabulary/negative_vocabulary.txt\", word+'\\n')"
   ]
  },
  {
   "cell_type": "code",
   "execution_count": 19,
   "metadata": {
    "pycharm": {
     "is_executing": false,
     "name": "#%%\n"
    }
   },
   "outputs": [
    {
     "name": "stdout",
     "output_type": "stream",
     "text": [
      "不\n",
      "\n",
      "不是\n",
      "\n",
      "没\n",
      "\n",
      "没有\n",
      "\n",
      "勿\n",
      "\n",
      "未\n",
      "\n",
      "别\n",
      "\n",
      "甭\n",
      "\n",
      "休\n",
      "\n",
      "毋\n",
      "\n",
      "非\n",
      "\n",
      "莫\n",
      "\n",
      "白\n",
      "\n",
      "空\n",
      "\n",
      "干\n",
      "\n",
      "瞎\n",
      "\n",
      "徒\n",
      "\n",
      "虚\n",
      "\n",
      "枉\n",
      "\n",
      "不堪\n",
      "\n",
      "不消\n",
      "\n",
      "不屑\n",
      "\n",
      "不由\n",
      "\n",
      "白白\n",
      "\n",
      "徒然\n",
      "\n",
      "枉然\n",
      "\n",
      "空自\n",
      "\n",
      "枉自\n",
      "\n",
      "徒自\n",
      "\n",
      "否\n",
      "\n",
      "未必\n",
      "\n",
      "不必\n",
      "\n",
      "无不\n",
      "\n",
      "不是\n",
      "\n",
      "没\n",
      "\n",
      "没有\n",
      "\n",
      "勿\n",
      "\n",
      "未\n",
      "\n",
      "别\n",
      "\n",
      "甭\n",
      "\n",
      "休\n",
      "\n",
      "毋\n",
      "\n",
      "非\n",
      "\n",
      "莫\n",
      "\n",
      "白\n",
      "\n",
      "空\n",
      "\n",
      "干\n",
      "\n",
      "瞎\n",
      "\n",
      "徒\n",
      "\n",
      "虚\n",
      "\n",
      "枉\n",
      "\n",
      "不堪\n",
      "\n",
      "不消\n",
      "\n",
      "不屑\n",
      "\n",
      "不由\n",
      "\n",
      "白白\n",
      "\n",
      "徒然\n",
      "\n",
      "枉然\n",
      "\n",
      "空自\n",
      "\n",
      "枉自\n",
      "\n",
      "徒自\n",
      "\n",
      "否\n",
      "\n",
      "未必\n",
      "\n",
      "不必\n",
      "\n",
      "无\n",
      "\n",
      "不\n",
      "\n",
      "不是\n",
      "\n",
      "没\n",
      "\n",
      "没有\n",
      "\n",
      "勿\n",
      "\n",
      "未\n",
      "\n",
      "别\n",
      "\n",
      "甭\n",
      "\n",
      "休\n",
      "\n",
      "毋\n",
      "\n",
      "非\n",
      "\n",
      "莫\n",
      "\n",
      "白\n",
      "\n",
      "空\n",
      "\n",
      "干\n",
      "\n",
      "瞎\n",
      "\n",
      "徒\n",
      "\n",
      "虚\n",
      "\n",
      "枉\n",
      "\n",
      "不堪\n",
      "\n",
      "不消\n",
      "\n",
      "不屑\n",
      "\n",
      "不由\n",
      "\n",
      "白白\n",
      "\n",
      "徒然\n",
      "\n",
      "枉然\n",
      "\n",
      "空自\n",
      "\n",
      "枉自\n",
      "\n",
      "徒自\n",
      "\n",
      "否\n",
      "\n",
      "未必\n",
      "\n",
      "不必\n",
      "\n",
      "无\n",
      "\n",
      "['不\\n', '不是\\n', '没\\n', '没有\\n', '勿\\n', '未\\n', '别\\n', '甭\\n', '休\\n', '毋\\n', '非\\n', '莫\\n', '白\\n', '空\\n', '干\\n', '瞎\\n', '徒\\n', '虚\\n', '枉\\n', '不堪\\n', '不消\\n', '不屑\\n', '不由\\n', '白白\\n', '徒然\\n', '枉然\\n', '空自\\n', '枉自\\n', '徒自\\n', '否\\n', '未必\\n', '不必\\n', '无不\\n', '不是\\n', '没\\n', '没有\\n', '勿\\n', '未\\n', '别\\n', '甭\\n', '休\\n', '毋\\n', '非\\n', '莫\\n', '白\\n', '空\\n', '干\\n', '瞎\\n', '徒\\n', '虚\\n', '枉\\n', '不堪\\n', '不消\\n', '不屑\\n', '不由\\n', '白白\\n', '徒然\\n', '枉然\\n', '空自\\n', '枉自\\n', '徒自\\n', '否\\n', '未必\\n', '不必\\n', '无\\n', '不\\n', '不是\\n', '没\\n', '没有\\n', '勿\\n', '未\\n', '别\\n', '甭\\n', '休\\n', '毋\\n', '非\\n', '莫\\n', '白\\n', '空\\n', '干\\n', '瞎\\n', '徒\\n', '虚\\n', '枉\\n', '不堪\\n', '不消\\n', '不屑\\n', '不由\\n', '白白\\n', '徒然\\n', '枉然\\n', '空自\\n', '枉自\\n', '徒自\\n', '否\\n', '未必\\n', '不必\\n', '无\\n']\n"
     ]
    }
   ],
   "source": [
    "neg_vo = file.read_file(\"../resource/vocabulary/negative_vocabulary.txt\")\n",
    "for item in neg_vo:\n",
    "\tprint(item)\n",
    "print(neg_vo)\n"
   ]
  },
  {
   "cell_type": "code",
   "execution_count": null,
   "metadata": {
    "collapsed": true
   },
   "outputs": [],
   "source": []
  }
 ],
 "metadata": {
  "kernelspec": {
   "display_name": "Python 3",
   "language": "python",
   "name": "python3"
  },
  "language_info": {
   "codemirror_mode": {
    "name": "ipython",
    "version": 3
   },
   "file_extension": ".py",
   "mimetype": "text/x-python",
   "name": "python",
   "nbconvert_exporter": "python",
   "pygments_lexer": "ipython3",
   "version": "3.6.2"
  },
  "pycharm": {
   "stem_cell": {
    "cell_type": "raw",
    "metadata": {
     "collapsed": false
    },
    "source": []
   }
  }
 },
 "nbformat": 4,
 "nbformat_minor": 2
}
