{
 "cells": [
  {
   "cell_type": "code",
   "execution_count": 1,
   "metadata": {},
   "outputs": [],
   "source": [
    "# 导入包\n",
    "\n",
    "import sys\n",
    "sys.path.append('../utils')\n",
    "import file_util as file\n",
    "import os\n",
    "import sql_util as sql"
   ]
  },
  {
   "cell_type": "markdown",
   "metadata": {},
   "source": [
    "## 导入需要去燥、标注语料\n",
    "- 在数据库remove_useless_pos_state、remove_useless_neg_state字段\n",
    "- 去燥标注语料：0-否 1-是\n",
    "- 数据目录在 server /home/data/news/remove_useless_txt"
   ]
  },
  {
   "cell_type": "code",
   "execution_count": 2,
   "metadata": {},
   "outputs": [],
   "source": [
    "# 获取文件名中的number\n",
    "def edit_txt_namne(item):\n",
    "    temp = str.split(item,  '.')[-2]\n",
    "    temp = str.split(temp,  '/')[-1]\n",
    "    temp = str.split(temp,  '-')[-1]\n",
    "    return temp"
   ]
  },
  {
   "cell_type": "code",
   "execution_count": 7,
   "metadata": {},
   "outputs": [
    {
     "name": "stdout",
     "output_type": "stream",
     "text": [
      "sina_neg_5万 279\n",
      "table: sina, field: remove_useless_neg_state\n",
      "事务处理成功 <pymysql.cursors.DictCursor object at 0x7f292052d3c8>\n",
      "sina_pos_5万 46\n",
      "table: sina, field: remove_useless_pos_state\n",
      "事务处理成功 <pymysql.cursors.DictCursor object at 0x7f292052d208>\n",
      "sohu_neg_54万 600\n",
      "table: sohu, field: remove_useless_neg_state\n",
      "事务处理成功 <pymysql.cursors.DictCursor object at 0x7f292052d438>\n",
      "sohu_pos_54万 388\n",
      "table: sohu, field: remove_useless_pos_state\n",
      "事务处理成功 <pymysql.cursors.DictCursor object at 0x7f292052d278>\n",
      "tianya_neg_37万 373\n",
      "table: tianya, field: remove_useless_neg_state\n",
      "事务处理成功 <pymysql.cursors.DictCursor object at 0x7f292052d390>\n",
      "tianya_pos_37万 258\n",
      "table: tianya, field: remove_useless_pos_state\n",
      "事务处理成功 <pymysql.cursors.DictCursor object at 0x7f292052d2e8>\n"
     ]
    }
   ],
   "source": [
    "txt_path = '/home/data/news/remove_useless_txt'\n",
    "\n",
    "path_list = os.listdir(txt_path)\n",
    "\n",
    "for element in path_list:\n",
    "    file_list = file.get_file_list(os.path.join(txt_path, element), [])\n",
    "    print(element, len(file_list))\n",
    "    # 根据文件夹名导入数据\n",
    "    path_str_list = str.split(element, '_')\n",
    "    field = 'remove_useless_' + path_str_list[1] + '_state'\n",
    "    table = path_str_list[0]\n",
    "    print(\"table: {}, field: {}\".format(table, field))\n",
    "#     print(list(map(edit_txt_namne, file_list)))\n",
    "#     print('update '+ table +' set '+ field +' = 1 where number = %s', list(map(edit_txt_namne, file_list)))\n",
    "    sql.execute_sql_list('update '+ table +' set '+ field +' = 1 where number = %s', list(map(edit_txt_namne, file_list)))"
   ]
  },
  {
   "cell_type": "markdown",
   "metadata": {},
   "source": [
    "## 导入语料的分词结果\n",
    "- 路径：/home/data/news/split_word"
   ]
  },
  {
   "cell_type": "code",
   "execution_count": 26,
   "metadata": {},
   "outputs": [
    {
     "name": "stdout",
     "output_type": "stream",
     "text": [
      "table: sina, name: sina-neg\n",
      "process end...\n",
      "table: sina, name: sina-neu\n",
      "process end...\n",
      "table: sina, name: sina-pos\n",
      "process end...\n",
      "table: sohu, name: sohu-neg\n",
      "process end...\n",
      "table: sohu, name: sohu-neu\n",
      "process end...\n",
      "table: sohu, name: sohu-pos\n",
      "process end...\n",
      "table: tianya, name: tianya-neg\n",
      "process end...\n",
      "table: tianya, name: tianya-neu\n",
      "process end...\n",
      "table: tianya, name: tianya-pos\n",
      "process end...\n"
     ]
    }
   ],
   "source": [
    "path = '/home/data/news/split_word'\n",
    "path_list = os.listdir(path)\n",
    "\n",
    "for element in path_list:\n",
    "#     print(element)\n",
    "    file_list = file.get_file_list(os.path.join(path, element), [])\n",
    "#     print(file_list)\n",
    "#     print(file.read_file(file_list[0]))\n",
    "    table = str.split(element, '-')[0]\n",
    "    print(\"table: {}, name: {}\".format(table, element))\n",
    "#     print(table)\n",
    "    for item in file_list:\n",
    "        txt_name = str.split(item, '/')[-1]\n",
    "        number = str.split(str.split(txt_name, '.')[0], '-')[-1]\n",
    "#         print(number)\n",
    "        sql.execute('update '+ table + ' set  identifier_txt  = %s where number = %s', (file.read_file(item), number))\n",
    "    print('process end...')"
   ]
  },
  {
   "cell_type": "code",
   "execution_count": null,
   "metadata": {},
   "outputs": [],
   "source": []
  }
 ],
 "metadata": {
  "kernelspec": {
   "display_name": "Python 3",
   "language": "python",
   "name": "python3"
  },
  "language_info": {
   "codemirror_mode": {
    "name": "ipython",
    "version": 3
   },
   "file_extension": ".py",
   "mimetype": "text/x-python",
   "name": "python",
   "nbconvert_exporter": "python",
   "pygments_lexer": "ipython3",
   "version": "3.6.9"
  },
  "widgets": {
   "application/vnd.jupyter.widget-state+json": {
    "state": {},
    "version_major": 2,
    "version_minor": 0
   }
  }
 },
 "nbformat": 4,
 "nbformat_minor": 4
}
