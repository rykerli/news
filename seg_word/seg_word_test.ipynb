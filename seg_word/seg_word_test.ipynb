{
 "cells": [
  {
   "cell_type": "code",
   "execution_count": 4,
   "metadata": {
    "collapsed": true,
    "pycharm": {
     "is_executing": false
    }
   },
   "outputs": [],
   "source": [
    "import jieba_fast as jieba\n",
    "import codecs\n",
    "import configparser as cf\n",
    "\n",
    "# 开启并行分词模式，参数为并行进程数\n",
    "jieba.enable_parallel(4)\n"
   ]
  },
  {
   "cell_type": "code",
   "execution_count": 5,
   "outputs": [],
   "source": [
    "def get_file_path(section, key):\n",
    "    conf = cf.ConfigParser()\n",
    "    conf.read('../conf/config.cfg')\n",
    "    return conf.get(section, key)\n",
    "\n",
    "def get_stop_word():\n",
    "    with codecs.open(get_file_path('stop_file', 'stop_words_chinese_1'), 'r', encoding='utf8') as f1:\n",
    "        data1 = f1.read()\n",
    "\n",
    "    with codecs.open(get_file_path('stop_file', 'stop_words_english_1'), 'r') as f2:\n",
    "        data2 = f2.read()\n",
    "    f_stop_list = (data1 + data2).split('\\n')\n",
    "    return f_stop_list"
   ],
   "metadata": {
    "collapsed": false,
    "pycharm": {
     "name": "#%%\n",
     "is_executing": false
    }
   }
  },
  {
   "cell_type": "code",
   "execution_count": 12,
   "outputs": [
    {
     "name": "stdout",
     "text": [
      "喜不喜欢\n不顺\n不 顺利\n"
     ],
     "output_type": "stream"
    }
   ],
   "source": [
    "data = [\"喜不喜欢\", \"不顺\", \"不顺利\"]\n",
    "for element in data:\n",
    "\tseg_list = jieba.cut(element, cut_all=False)\n",
    "\tlist_str = \" \".join(seg_list)\n",
    "\tprint(str(list_str))"
   ],
   "metadata": {
    "collapsed": false,
    "pycharm": {
     "name": "#%%\n",
     "is_executing": false
    }
   }
  },
  {
   "cell_type": "code",
   "execution_count": null,
   "outputs": [],
   "source": [
    "\n"
   ],
   "metadata": {
    "collapsed": false,
    "pycharm": {
     "name": "#%%\n"
    }
   }
  }
 ],
 "metadata": {
  "language_info": {
   "codemirror_mode": {
    "name": "ipython",
    "version": 2
   },
   "file_extension": ".py",
   "mimetype": "text/x-python",
   "name": "python",
   "nbconvert_exporter": "python",
   "pygments_lexer": "ipython2",
   "version": "2.7.6"
  },
  "kernelspec": {
   "name": "python3",
   "language": "python",
   "display_name": "Python 3"
  },
  "pycharm": {
   "stem_cell": {
    "cell_type": "raw",
    "source": [],
    "metadata": {
     "collapsed": false
    }
   }
  }
 },
 "nbformat": 4,
 "nbformat_minor": 0
}